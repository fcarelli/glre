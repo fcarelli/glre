{
 "cells": [
  {
   "cell_type": "code",
   "execution_count": 10,
   "metadata": {
    "ExecuteTime": {
     "end_time": "2018-09-20T11:29:05.317137Z",
     "start_time": "2018-09-20T11:29:00.136641Z"
    }
   },
   "outputs": [
    {
     "name": "stdout",
     "output_type": "stream",
     "text": [
      "os.getcwd(): /mnt/beegfs/home1/ahringer/fnc21/glre/relmapping\n"
     ]
    }
   ],
   "source": [
    "%run ~/glre/relmapping/annot_cb/notebooks/annot__init__.ipynb"
   ]
  },
  {
   "cell_type": "code",
   "execution_count": 11,
   "metadata": {
    "ExecuteTime": {
     "end_time": "2018-09-20T11:40:40.951590Z",
     "start_time": "2018-09-20T11:29:10.146760Z"
    }
   },
   "outputs": [
    {
     "data": {
      "text/plain": [
       "'glp1_ya atac/tg_se.bwa_se_cb4.rm_unmapped.rm_contigs_cb4.rm_q10.macs2_se_extsize150_shiftm75_keepdup_all/annot_cb_atac_glp1_ya_rep1.tg_se.bwa_se_cb4.rm_unmapped.rm_contigs_cb4.rm_q10.macs2_se_extsize150_shiftm75_keepdup_all_treat_pileup.bw atac/tg_se.bwa_se_cb4.rm_unmapped.rm_contigs_cb4.rm_q10.macs2_se_extsize150_shiftm75_keepdup_all/annot_cb_atac_glp1_ya_rep2.tg_se.bwa_se_cb4.rm_unmapped.rm_contigs_cb4.rm_q10.macs2_se_extsize150_shiftm75_keepdup_all_treat_pileup.bw atac/tg_se.bwa_se_cb4.rm_unmapped.rm_contigs_cb4.rm_q10.sample_prp.macs2_se_extsize150_shiftm75_keepdup_all/annot_cb_atac_glp1_ya_rep1.tg_se.bwa_se_cb4.rm_unmapped.rm_contigs_cb4.rm_q10.sample_prp.macs2_se_extsize150_shiftm75_keepdup_all_treat_pileup.bw atac/tg_se.bwa_se_cb4.rm_unmapped.rm_contigs_cb4.rm_q10.sample_prp.macs2_se_extsize150_shiftm75_keepdup_all/annot_cb_atac_glp1_ya_rep2.tg_se.bwa_se_cb4.rm_unmapped.rm_contigs_cb4.rm_q10.sample_prp.macs2_se_extsize150_shiftm75_keepdup_all_treat_pileup.bw wt_ya atac/tg_se.bwa_se_cb4.rm_unmapped.rm_contigs_cb4.rm_q10.macs2_se_extsize150_shiftm75_keepdup_all/annot_cb_atac_wt_ya_rep1.tg_se.bwa_se_cb4.rm_unmapped.rm_contigs_cb4.rm_q10.macs2_se_extsize150_shiftm75_keepdup_all_treat_pileup.bw atac/tg_se.bwa_se_cb4.rm_unmapped.rm_contigs_cb4.rm_q10.macs2_se_extsize150_shiftm75_keepdup_all/annot_cb_atac_wt_ya_rep2.tg_se.bwa_se_cb4.rm_unmapped.rm_contigs_cb4.rm_q10.macs2_se_extsize150_shiftm75_keepdup_all_treat_pileup.bw atac/tg_se.bwa_se_cb4.rm_unmapped.rm_contigs_cb4.rm_q10.sample_prp.macs2_se_extsize150_shiftm75_keepdup_all/annot_cb_atac_wt_ya_rep1.tg_se.bwa_se_cb4.rm_unmapped.rm_contigs_cb4.rm_q10.sample_prp.macs2_se_extsize150_shiftm75_keepdup_all_treat_pileup.bw atac/tg_se.bwa_se_cb4.rm_unmapped.rm_contigs_cb4.rm_q10.sample_prp.macs2_se_extsize150_shiftm75_keepdup_all/annot_cb_atac_wt_ya_rep2.tg_se.bwa_se_cb4.rm_unmapped.rm_contigs_cb4.rm_q10.sample_prp.macs2_se_extsize150_shiftm75_keepdup_all_treat_pileup.bw '"
      ]
     },
     "execution_count": 11,
     "metadata": {},
     "output_type": "execute_result"
    }
   ],
   "source": [
    "l_atac_stages = list(config['annot_cb']['atac_samples'].keys())\n",
    "args = ''\n",
    "for stage in l_atac_stages:\n",
    "    fp_rep1 = pf('annot_cb_atac_%(stage)s_rep1' % locals(), config['annot_cb']['atac_step'], config['annot_cb']['atac_suffix'], 'atac')\n",
    "    fp_rep2 = pf('annot_cb_atac_%(stage)s_rep2' % locals(), config['annot_cb']['atac_step'], config['annot_cb']['atac_suffix'], 'atac')\n",
    "    fp_prp1 = pf('annot_cb_atac_%(stage)s_rep1' % locals(), config['annot_cb']['atac_step_prp'], config['annot_cb']['atac_suffix'], 'atac')\n",
    "    fp_prp2 = pf('annot_cb_atac_%(stage)s_rep2' % locals(), config['annot_cb']['atac_step_prp'], config['annot_cb']['atac_suffix'], 'atac')\n",
    "    args += '%(stage)s %(fp_rep1)s %(fp_rep2)s %(fp_prp1)s %(fp_prp2)s ' % locals()\n",
    "\n",
    "args"
   ]
  },
  {
   "cell_type": "code",
   "execution_count": null,
   "metadata": {},
   "outputs": [],
   "source": [
    "!yapc/yapc annot_cb/metrics_atac/atac_cb {args} --smoothing-window-width 150 --fixed-peak-halfwidth 75 --pseudoreplicates"
   ]
  },
  {
   "cell_type": "code",
   "execution_count": null,
   "metadata": {
    "ExecuteTime": {
     "end_time": "2018-09-18T16:14:04.620145Z",
     "start_time": "2018-09-18T16:14:04.336619Z"
    },
    "collapsed": true
   },
   "outputs": [],
   "source": [
    "df_sites = pd.read_csv('annot_cb/metrics_atac/atac_cb.tsv', sep='\\t')\n",
    "l_globalIDR = ['%(stage)s_globalIDR' % locals() for stage in config['annot_cb']['atac_samples'].keys() ]\n",
    "df_sites['max_globalIDR'] = df_sites[l_globalIDR].max(axis=1)\n",
    "for th in [0.001, 0.005, 0.01, 0.05]:\n",
    "    th_globalIDR = -math.log(th, 10)\n",
    "    df_sites_th = df_sites.query('max_globalIDR >= @th_globalIDR')\n",
    "    print('%d accessible sites at IDR=%.3f' % (len(df_sites_th), th))\n",
    "df_sites.head()"
   ]
  },
  {
   "cell_type": "code",
   "execution_count": null,
   "metadata": {
    "ExecuteTime": {
     "end_time": "2018-09-18T16:14:24.864130Z",
     "start_time": "2018-09-18T16:14:24.559882Z"
    },
    "collapsed": true
   },
   "outputs": [],
   "source": [
    "th_globalIDR = -math.log(0.01, 10)\n",
    "fp_ = 'annot_cb/accessible_sites_cb.tsv'\n",
    "df_sites.query('max_globalIDR > @th_globalIDR').to_csv(fp_, header=True, index=False, sep='\\t')\n",
    "!wc -l {fp_}"
   ]
  }
 ],
 "metadata": {
  "kernelspec": {
   "display_name": "Python 3",
   "language": "python",
   "name": "python3"
  },
  "language_info": {
   "codemirror_mode": {
    "name": "ipython",
    "version": 3
   },
   "file_extension": ".py",
   "mimetype": "text/x-python",
   "name": "python",
   "nbconvert_exporter": "python",
   "pygments_lexer": "ipython3",
   "version": "3.5.2"
  }
 },
 "nbformat": 4,
 "nbformat_minor": 2
}
