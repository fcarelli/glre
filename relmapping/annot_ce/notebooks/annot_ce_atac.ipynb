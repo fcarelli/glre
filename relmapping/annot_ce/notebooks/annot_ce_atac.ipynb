{
 "cells": [
  {
   "cell_type": "code",
   "execution_count": 5,
   "metadata": {
    "ExecuteTime": {
     "end_time": "2018-09-20T11:29:05.317137Z",
     "start_time": "2018-09-20T11:29:00.136641Z"
    }
   },
   "outputs": [
    {
     "name": "stdout",
     "output_type": "stream",
     "text": [
      "3.5.2 |Continuum Analytics, Inc.| (default, Jul  2 2016, 17:53:06) \n",
      "[GCC 4.4.7 20120313 (Red Hat 4.4.7-1)]\n",
      "os.getcwd(): /mnt/beegfs/home1/ahringer/fnc21/glre/relmapping\n"
     ]
    }
   ],
   "source": [
    "%run ~/glre/relmapping/annot_ce/notebooks/annot__init__.ipynb"
   ]
  },
  {
   "cell_type": "code",
   "execution_count": 6,
   "metadata": {},
   "outputs": [
    {
     "name": "stdout",
     "output_type": "stream",
     "text": [
      "glp1_ya atac/tg_se.bwa_se_ce11.rm_unmapped.rm_contigs_ce11.rm_q10.macs2_se_extsize150_shiftm75_keepdup_all/annot_ce_atac_glp1_ya_rep1.tg_se.bwa_se_ce11.rm_unmapped.rm_contigs_ce11.rm_q10.macs2_se_extsize150_shiftm75_keepdup_all_treat_pileup.bw atac/tg_se.bwa_se_ce11.rm_unmapped.rm_contigs_ce11.rm_q10.macs2_se_extsize150_shiftm75_keepdup_all/annot_ce_atac_glp1_ya_rep2.tg_se.bwa_se_ce11.rm_unmapped.rm_contigs_ce11.rm_q10.macs2_se_extsize150_shiftm75_keepdup_all_treat_pileup.bw atac/tg_se.bwa_se_ce11.rm_unmapped.rm_contigs_ce11.rm_q10.sample_prp.macs2_se_extsize150_shiftm75_keepdup_all/annot_ce_atac_glp1_ya_rep1.tg_se.bwa_se_ce11.rm_unmapped.rm_contigs_ce11.rm_q10.sample_prp.macs2_se_extsize150_shiftm75_keepdup_all_treat_pileup.bw atac/tg_se.bwa_se_ce11.rm_unmapped.rm_contigs_ce11.rm_q10.sample_prp.macs2_se_extsize150_shiftm75_keepdup_all/annot_ce_atac_glp1_ya_rep2.tg_se.bwa_se_ce11.rm_unmapped.rm_contigs_ce11.rm_q10.sample_prp.macs2_se_extsize150_shiftm75_keepdup_all_treat_pileup.bw wt_ya atac/tg_se.bwa_se_ce11.rm_unmapped.rm_contigs_ce11.rm_q10.macs2_se_extsize150_shiftm75_keepdup_all/annot_ce_atac_wt_ya_rep1.tg_se.bwa_se_ce11.rm_unmapped.rm_contigs_ce11.rm_q10.macs2_se_extsize150_shiftm75_keepdup_all_treat_pileup.bw atac/tg_se.bwa_se_ce11.rm_unmapped.rm_contigs_ce11.rm_q10.macs2_se_extsize150_shiftm75_keepdup_all/annot_ce_atac_wt_ya_rep2.tg_se.bwa_se_ce11.rm_unmapped.rm_contigs_ce11.rm_q10.macs2_se_extsize150_shiftm75_keepdup_all_treat_pileup.bw atac/tg_se.bwa_se_ce11.rm_unmapped.rm_contigs_ce11.rm_q10.sample_prp.macs2_se_extsize150_shiftm75_keepdup_all/annot_ce_atac_wt_ya_rep1.tg_se.bwa_se_ce11.rm_unmapped.rm_contigs_ce11.rm_q10.sample_prp.macs2_se_extsize150_shiftm75_keepdup_all_treat_pileup.bw atac/tg_se.bwa_se_ce11.rm_unmapped.rm_contigs_ce11.rm_q10.sample_prp.macs2_se_extsize150_shiftm75_keepdup_all/annot_ce_atac_wt_ya_rep2.tg_se.bwa_se_ce11.rm_unmapped.rm_contigs_ce11.rm_q10.sample_prp.macs2_se_extsize150_shiftm75_keepdup_all_treat_pileup.bw \n"
     ]
    }
   ],
   "source": [
    "l_atac_stages = list(config['annot_ce']['atac_samples'].keys())\n",
    "args = ''\n",
    "for stage in l_atac_stages:\n",
    "    fp_rep1 = pf('annot_ce_atac_%(stage)s_rep1' % locals(), config['annot_ce']['atac_step'], config['annot_ce']['atac_suffix'], 'atac')\n",
    "    fp_rep2 = pf('annot_ce_atac_%(stage)s_rep2' % locals(), config['annot_ce']['atac_step'], config['annot_ce']['atac_suffix'], 'atac')\n",
    "    fp_prp1 = pf('annot_ce_atac_%(stage)s_rep1' % locals(), config['annot_ce']['atac_step_prp'], config['annot_ce']['atac_suffix'], 'atac')\n",
    "    fp_prp2 = pf('annot_ce_atac_%(stage)s_rep2' % locals(), config['annot_ce']['atac_step_prp'], config['annot_ce']['atac_suffix'], 'atac')\n",
    "    args += '%(stage)s %(fp_rep1)s %(fp_rep2)s %(fp_prp1)s %(fp_prp2)s ' % locals()\n",
    "\n",
    "\n",
    "print(args)"
   ]
  },
  {
   "cell_type": "code",
   "execution_count": 7,
   "metadata": {
    "ExecuteTime": {
     "end_time": "2018-09-20T11:40:40.951590Z",
     "start_time": "2018-09-20T11:29:10.146760Z"
    }
   },
   "outputs": [
    {
     "name": "stdout",
     "output_type": "stream",
     "text": [
      "21-01-25 17:27:08 | numpy version: 1.13.3\n",
      "21-01-25 17:27:08 | pandas version: 0.22.0\n",
      "21-01-25 17:27:08 | pyBigWig.numpy flag: 1\n",
      "21-01-25 17:27:08 | IDR version: 2.0.3\n",
      "21-01-25 17:27:08 | Input samples:\n",
      "condition        sample                                                 fp  pseudoreplicate  is_bw\n",
      " glp1_ya  glp1_ya_rep1  atac/tg_se.bwa_se_ce11.rm_unmapped.rm_contigs_...            False   True\n",
      " glp1_ya  glp1_ya_rep2  atac/tg_se.bwa_se_ce11.rm_unmapped.rm_contigs_...            False   True\n",
      " glp1_ya  glp1_ya_prp1  atac/tg_se.bwa_se_ce11.rm_unmapped.rm_contigs_...             True   True\n",
      " glp1_ya  glp1_ya_prp2  atac/tg_se.bwa_se_ce11.rm_unmapped.rm_contigs_...             True   True\n",
      "   wt_ya    wt_ya_rep1  atac/tg_se.bwa_se_ce11.rm_unmapped.rm_contigs_...            False   True\n",
      "   wt_ya    wt_ya_rep2  atac/tg_se.bwa_se_ce11.rm_unmapped.rm_contigs_...            False   True\n",
      "   wt_ya    wt_ya_prp1  atac/tg_se.bwa_se_ce11.rm_unmapped.rm_contigs_...             True   True\n",
      "   wt_ya    wt_ya_prp2  atac/tg_se.bwa_se_ce11.rm_unmapped.rm_contigs_...             True   True\n",
      "\n",
      "21-01-25 17:27:08 | Output prefix: annot_ce/metrics_atac/atac_ce\n",
      "21-01-25 17:27:08 | [recompute]\tpooled coverage track: annot_ce/metrics_atac/atac_ce_coverage.bw\n",
      "calculating mean of all input signal:\n",
      "I 15072434\n",
      "II 15279421\n",
      "III 13783801\n",
      "IV 17493829\n",
      "V 20924180\n",
      "X 17718942\n",
      "21-01-25 17:28:20 | [recompute]\td2smooth track: annot_ce/metrics_atac/atac_ce_d2smooth.bw\n",
      "II 15279421\n",
      "V 20924180\n",
      "III 13783801\n",
      "I 15072434\n",
      "IV 17493829\n",
      "X 17718942\n",
      "21-01-25 17:29:30 | [compute]\traw concave regions: annot_ce/metrics_atac/atac_ce_peaksall.tsv\n",
      "yapc/yapc:152: RuntimeWarning: invalid value encountered in less\n",
      "  s = np.where(np.diff((d2y < tol).astype(int))==1)[0] + 1\n",
      "yapc/yapc:153: RuntimeWarning: invalid value encountered in less\n",
      "  e = np.where(np.diff((d2y < tol).astype(int))==-1)[0] + 1\n",
      "33590 raw concave regions on chrom III\n",
      "51384 raw concave regions on chrom V\n",
      "37519 raw concave regions on chrom II\n",
      "36776 raw concave regions on chrom I\n",
      "43222 raw concave regions on chrom IV\n",
      "42360 raw concave regions on chrom X\n",
      "244851 peaks total\n",
      "scoring peaks for sample: glp1_ya_rep1\n",
      "^C\n"
     ]
    }
   ],
   "source": [
    "l_atac_stages = list(config['annot_ce']['atac_samples'].keys())\n",
    "args = ''\n",
    "for stage in l_atac_stages:\n",
    "    fp_rep1 = pf('annot_ce_atac_%(stage)s_rep1' % locals(), config['annot_ce']['atac_step'], config['annot_ce']['atac_suffix'], 'atac')\n",
    "    fp_rep2 = pf('annot_ce_atac_%(stage)s_rep2' % locals(), config['annot_ce']['atac_step'], config['annot_ce']['atac_suffix'], 'atac')\n",
    "    fp_prp1 = pf('annot_ce_atac_%(stage)s_rep1' % locals(), config['annot_ce']['atac_step_prp'], config['annot_ce']['atac_suffix'], 'atac')\n",
    "    fp_prp2 = pf('annot_ce_atac_%(stage)s_rep2' % locals(), config['annot_ce']['atac_step_prp'], config['annot_ce']['atac_suffix'], 'atac')\n",
    "    args += '%(stage)s %(fp_rep1)s %(fp_rep2)s %(fp_prp1)s %(fp_prp2)s ' % locals()\n",
    "\n",
    "!yapc/yapc annot_ce/metrics_atac/atac_ce {args} --smoothing-window-width 150 --fixed-peak-halfwidth 75 --pseudoreplicates"
   ]
  },
  {
   "cell_type": "code",
   "execution_count": 3,
   "metadata": {
    "ExecuteTime": {
     "end_time": "2018-09-18T16:14:04.620145Z",
     "start_time": "2018-09-18T16:14:04.336619Z"
    }
   },
   "outputs": [
    {
     "name": "stdout",
     "output_type": "stream",
     "text": [
      "31003 accessible sites at IDR=0.001\n",
      "34957 accessible sites at IDR=0.005\n",
      "36922 accessible sites at IDR=0.010\n",
      "43212 accessible sites at IDR=0.050\n"
     ]
    },
    {
     "data": {
      "text/html": [
       "<div>\n",
       "<style scoped>\n",
       "    .dataframe tbody tr th:only-of-type {\n",
       "        vertical-align: middle;\n",
       "    }\n",
       "\n",
       "    .dataframe tbody tr th {\n",
       "        vertical-align: top;\n",
       "    }\n",
       "\n",
       "    .dataframe thead th {\n",
       "        text-align: right;\n",
       "    }\n",
       "</style>\n",
       "<table border=\"1\" class=\"dataframe\">\n",
       "  <thead>\n",
       "    <tr style=\"text-align: right;\">\n",
       "      <th></th>\n",
       "      <th>chrom</th>\n",
       "      <th>concave_start</th>\n",
       "      <th>concave_end</th>\n",
       "      <th>mode</th>\n",
       "      <th>wt_ya_rep1_score</th>\n",
       "      <th>wt_ya_rep2_score</th>\n",
       "      <th>wt_ya_prp1_score</th>\n",
       "      <th>wt_ya_prp2_score</th>\n",
       "      <th>glp1_ya_rep1_score</th>\n",
       "      <th>glp1_ya_rep2_score</th>\n",
       "      <th>glp1_ya_prp1_score</th>\n",
       "      <th>glp1_ya_prp2_score</th>\n",
       "      <th>min_rank</th>\n",
       "      <th>start</th>\n",
       "      <th>end</th>\n",
       "      <th>wt_ya_globalIDR</th>\n",
       "      <th>glp1_ya_globalIDR</th>\n",
       "      <th>max_globalIDR</th>\n",
       "    </tr>\n",
       "  </thead>\n",
       "  <tbody>\n",
       "    <tr>\n",
       "      <th>0</th>\n",
       "      <td>I</td>\n",
       "      <td>821</td>\n",
       "      <td>1028</td>\n",
       "      <td>928</td>\n",
       "      <td>78.540683</td>\n",
       "      <td>37.856578</td>\n",
       "      <td>47.253257</td>\n",
       "      <td>58.865892</td>\n",
       "      <td>25.211202</td>\n",
       "      <td>12.034824</td>\n",
       "      <td>12.614292</td>\n",
       "      <td>22.065725</td>\n",
       "      <td>15830.0</td>\n",
       "      <td>853</td>\n",
       "      <td>1004</td>\n",
       "      <td>2.590876</td>\n",
       "      <td>0.398826</td>\n",
       "      <td>2.590876</td>\n",
       "    </tr>\n",
       "    <tr>\n",
       "      <th>1</th>\n",
       "      <td>I</td>\n",
       "      <td>1853</td>\n",
       "      <td>2073</td>\n",
       "      <td>1954</td>\n",
       "      <td>70.953622</td>\n",
       "      <td>91.569783</td>\n",
       "      <td>82.288248</td>\n",
       "      <td>85.444344</td>\n",
       "      <td>24.319110</td>\n",
       "      <td>26.719965</td>\n",
       "      <td>25.715143</td>\n",
       "      <td>25.791774</td>\n",
       "      <td>15732.0</td>\n",
       "      <td>1879</td>\n",
       "      <td>2030</td>\n",
       "      <td>4.537940</td>\n",
       "      <td>2.024222</td>\n",
       "      <td>4.537940</td>\n",
       "    </tr>\n",
       "    <tr>\n",
       "      <th>2</th>\n",
       "      <td>I</td>\n",
       "      <td>2642</td>\n",
       "      <td>2810</td>\n",
       "      <td>2739</td>\n",
       "      <td>38.843651</td>\n",
       "      <td>25.406817</td>\n",
       "      <td>25.969204</td>\n",
       "      <td>34.886975</td>\n",
       "      <td>15.439812</td>\n",
       "      <td>2.686368</td>\n",
       "      <td>11.039937</td>\n",
       "      <td>4.601345</td>\n",
       "      <td>32896.0</td>\n",
       "      <td>2664</td>\n",
       "      <td>2815</td>\n",
       "      <td>0.646908</td>\n",
       "      <td>0.179292</td>\n",
       "      <td>0.646908</td>\n",
       "    </tr>\n",
       "    <tr>\n",
       "      <th>3</th>\n",
       "      <td>I</td>\n",
       "      <td>2970</td>\n",
       "      <td>3138</td>\n",
       "      <td>3056</td>\n",
       "      <td>29.399124</td>\n",
       "      <td>39.923326</td>\n",
       "      <td>34.173472</td>\n",
       "      <td>37.808228</td>\n",
       "      <td>14.996361</td>\n",
       "      <td>4.051082</td>\n",
       "      <td>10.736803</td>\n",
       "      <td>6.178143</td>\n",
       "      <td>31503.0</td>\n",
       "      <td>2981</td>\n",
       "      <td>3132</td>\n",
       "      <td>1.666984</td>\n",
       "      <td>0.179292</td>\n",
       "      <td>1.666984</td>\n",
       "    </tr>\n",
       "    <tr>\n",
       "      <th>4</th>\n",
       "      <td>I</td>\n",
       "      <td>3777</td>\n",
       "      <td>4041</td>\n",
       "      <td>3937</td>\n",
       "      <td>4872.445780</td>\n",
       "      <td>6185.208044</td>\n",
       "      <td>5691.562684</td>\n",
       "      <td>5697.772603</td>\n",
       "      <td>1789.116031</td>\n",
       "      <td>3081.296592</td>\n",
       "      <td>2528.127365</td>\n",
       "      <td>2594.018281</td>\n",
       "      <td>17.0</td>\n",
       "      <td>3862</td>\n",
       "      <td>4013</td>\n",
       "      <td>5.000000</td>\n",
       "      <td>5.000000</td>\n",
       "      <td>5.000000</td>\n",
       "    </tr>\n",
       "  </tbody>\n",
       "</table>\n",
       "</div>"
      ],
      "text/plain": [
       "  chrom  concave_start  concave_end  mode  wt_ya_rep1_score  wt_ya_rep2_score  \\\n",
       "0     I            821         1028   928         78.540683         37.856578   \n",
       "1     I           1853         2073  1954         70.953622         91.569783   \n",
       "2     I           2642         2810  2739         38.843651         25.406817   \n",
       "3     I           2970         3138  3056         29.399124         39.923326   \n",
       "4     I           3777         4041  3937       4872.445780       6185.208044   \n",
       "\n",
       "   wt_ya_prp1_score  wt_ya_prp2_score  glp1_ya_rep1_score  glp1_ya_rep2_score  \\\n",
       "0         47.253257         58.865892           25.211202           12.034824   \n",
       "1         82.288248         85.444344           24.319110           26.719965   \n",
       "2         25.969204         34.886975           15.439812            2.686368   \n",
       "3         34.173472         37.808228           14.996361            4.051082   \n",
       "4       5691.562684       5697.772603         1789.116031         3081.296592   \n",
       "\n",
       "   glp1_ya_prp1_score  glp1_ya_prp2_score  min_rank  start   end  \\\n",
       "0           12.614292           22.065725   15830.0    853  1004   \n",
       "1           25.715143           25.791774   15732.0   1879  2030   \n",
       "2           11.039937            4.601345   32896.0   2664  2815   \n",
       "3           10.736803            6.178143   31503.0   2981  3132   \n",
       "4         2528.127365         2594.018281      17.0   3862  4013   \n",
       "\n",
       "   wt_ya_globalIDR  glp1_ya_globalIDR  max_globalIDR  \n",
       "0         2.590876           0.398826       2.590876  \n",
       "1         4.537940           2.024222       4.537940  \n",
       "2         0.646908           0.179292       0.646908  \n",
       "3         1.666984           0.179292       1.666984  \n",
       "4         5.000000           5.000000       5.000000  "
      ]
     },
     "execution_count": 3,
     "metadata": {},
     "output_type": "execute_result"
    }
   ],
   "source": [
    "df_sites = pd.read_csv('annot_ce/metrics_atac/atac_ce.tsv', sep='\\t')\n",
    "l_globalIDR = ['%(stage)s_globalIDR' % locals() for stage in config['annot_ce']['atac_samples'].keys() ]\n",
    "df_sites['max_globalIDR'] = df_sites[l_globalIDR].max(axis=1)\n",
    "for th in [0.001, 0.005, 0.01, 0.05]:\n",
    "    th_globalIDR = -math.log(th, 10)\n",
    "    df_sites_th = df_sites.query('max_globalIDR >= @th_globalIDR')\n",
    "    print('%d accessible sites at IDR=%.3f' % (len(df_sites_th), th))\n",
    "df_sites.head()"
   ]
  },
  {
   "cell_type": "code",
   "execution_count": 4,
   "metadata": {
    "ExecuteTime": {
     "end_time": "2018-09-18T16:14:24.864130Z",
     "start_time": "2018-09-18T16:14:24.559882Z"
    }
   },
   "outputs": [
    {
     "name": "stdout",
     "output_type": "stream",
     "text": [
      "31004 annot_ce/accessible_sites_ce.tsv\r\n"
     ]
    }
   ],
   "source": [
    "th_globalIDR = -math.log(0.001, 10)\n",
    "fp_ = 'annot_ce/accessible_sites_ce.tsv'\n",
    "df_sites.query('max_globalIDR > @th_globalIDR').to_csv(fp_, header=True, index=False, sep='\\t')\n",
    "!wc -l {fp_}"
   ]
  }
 ],
 "metadata": {
  "kernelspec": {
   "display_name": "Python 3",
   "language": "python",
   "name": "python3"
  },
  "language_info": {
   "codemirror_mode": {
    "name": "ipython",
    "version": 3
   },
   "file_extension": ".py",
   "mimetype": "text/x-python",
   "name": "python",
   "nbconvert_exporter": "python",
   "pygments_lexer": "ipython3",
   "version": "3.5.2"
  }
 },
 "nbformat": 4,
 "nbformat_minor": 2
}
