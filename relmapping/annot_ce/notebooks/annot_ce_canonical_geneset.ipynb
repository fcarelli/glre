{
 "cells": [
  {
   "cell_type": "code",
   "execution_count": 1,
   "metadata": {
    "ExecuteTime": {
     "start_time": "2018-09-19T14:49:45.132Z"
    },
    "code_folding": []
   },
   "outputs": [
    {
     "name": "stdout",
     "output_type": "stream",
     "text": [
      "3.5.1 |Continuum Analytics, Inc.| (default, Jun 15 2016, 15:32:45) \n",
      "[GCC 4.4.7 20120313 (Red Hat 4.4.7-1)]\n",
      "os.getcwd(): /mnt/b2/home1/ahringer/fnc21/relmapping\n"
     ]
    }
   ],
   "source": [
    "%run ~/glre/relmapping/annot_ce/notebooks/annot__init__.ipynb"
   ]
  },
  {
   "cell_type": "code",
   "execution_count": 2,
   "metadata": {
    "ExecuteTime": {
     "end_time": "2018-09-19T13:13:29.115637Z",
     "start_time": "2018-09-19T13:13:27.112852Z"
    }
   },
   "outputs": [
    {
     "name": "stdout",
     "output_type": "stream",
     "text": [
      "930606 raw records\n",
      "930470 records from non-scaffolds\n"
     ]
    }
   ],
   "source": [
    "kwargs_to_gtf = {'index': False, 'header': False, 'quoting': csv.QUOTE_NONE, 'sep': '\\t'}\n",
    "fp_ = 'ftp://ftp.wormbase.org/pub/wormbase/releases/WS275/species/c_elegans/PRJNA13758/c_elegans.PRJNA13758.WS275.canonical_geneset.gtf.gz'\n",
    "df_ = pd.read_csv(fp_, sep='\\t', names=NAMES_GTF, comment='#')\n",
    "print('%d raw records' % (len(df_),))\n",
    "l_chroms = ['I', 'II', 'III', 'IV', 'V', 'X',]\n",
    "df_ = df_.query('chrom in @l_chroms')\n",
    "print('%d records from non-scaffolds' % (len(df_),))"
   ]
  },
  {
   "cell_type": "code",
   "execution_count": 3,
   "metadata": {
    "ExecuteTime": {
     "end_time": "2018-09-19T13:13:39.029048Z",
     "start_time": "2018-09-19T13:13:29.117846Z"
    }
   },
   "outputs": [],
   "source": [
    "kwargs_ = {'index': False, 'header': False, 'quoting': csv.QUOTE_NONE, 'sep': '\\t', 'compression': 'gzip'}\n",
    "df_.query('feature==\"gene\"').to_csv('annot_ce/canonical_geneset/elegans.genes.gtf.gz', **kwargs_)\n",
    "df_.query('feature!=\"gene\"').to_csv('annot_ce/canonical_geneset/elegans.transcripts.gtf.gz', **kwargs_)"
   ]
  },
  {
   "cell_type": "code",
   "execution_count": 4,
   "metadata": {
    "ExecuteTime": {
     "end_time": "2018-09-19T13:16:50.678430Z",
     "start_time": "2018-09-19T13:16:50.281466Z"
    }
   },
   "outputs": [
    {
     "data": {
      "text/plain": [
       "protein_coding    20028\n",
       "piRNA             15363\n",
       "ncRNA              7764\n",
       "pseudogene         2076\n",
       "tRNA                612\n",
       "snoRNA              346\n",
       "miRNA               260\n",
       "lincRNA             183\n",
       "snRNA               129\n",
       "antisense_RNA       100\n",
       "rRNA                 20\n",
       "Name: gene_biotype, dtype: int64"
      ]
     },
     "execution_count": 4,
     "metadata": {},
     "output_type": "execute_result"
    }
   ],
   "source": [
    "df_genes_raw = df_.query('feature==\"gene\"').reset_index(drop=True)\n",
    "df_genes = df_gfftags_unpack(df_genes_raw, name='attribute')\n",
    "df_genes['gene_biotype'].value_counts()"
   ]
  },
  {
   "cell_type": "code",
   "execution_count": 5,
   "metadata": {
    "ExecuteTime": {
     "end_time": "2018-09-19T13:17:12.697294Z",
     "start_time": "2018-09-19T13:17:10.876317Z"
    }
   },
   "outputs": [
    {
     "name": "stdout",
     "output_type": "stream",
     "text": [
      "annot_ce/canonical_geneset/elegans.genes.protein_coding.gtf.gz\n",
      "20028\n",
      "annot_ce/canonical_geneset/elegans.genes.piRNA.gtf.gz\n",
      "15363\n",
      "annot_ce/canonical_geneset/elegans.genes.ncRNA.gtf.gz\n",
      "7764\n",
      "annot_ce/canonical_geneset/elegans.genes.pseudogene.gtf.gz\n",
      "2076\n",
      "annot_ce/canonical_geneset/elegans.genes.tRNA.gtf.gz\n",
      "612\n",
      "annot_ce/canonical_geneset/elegans.genes.snoRNA.gtf.gz\n",
      "346\n",
      "annot_ce/canonical_geneset/elegans.genes.miRNA.gtf.gz\n",
      "260\n",
      "annot_ce/canonical_geneset/elegans.genes.lincRNA.gtf.gz\n",
      "183\n",
      "annot_ce/canonical_geneset/elegans.genes.snRNA.gtf.gz\n",
      "129\n",
      "annot_ce/canonical_geneset/elegans.genes.antisense_RNA.gtf.gz\n",
      "100\n",
      "annot_ce/canonical_geneset/elegans.genes.rRNA.gtf.gz\n",
      "20\n"
     ]
    }
   ],
   "source": [
    "kwargs_to_gtf = {'index': False, 'header': False, 'quoting': csv.QUOTE_NONE, 'sep': '\\t'}\n",
    "for gene_biotype in df_genes['gene_biotype'].value_counts().index.tolist():#['tRNA', 'snoRNA', 'miRNA', 'lincRNA', 'snRNA', 'antisense', 'rRNA',]:\n",
    "    fp_ = 'annot_ce/canonical_geneset/elegans.genes.%s.gtf.gz' % (gene_biotype,)\n",
    "    print(fp_)\n",
    "    df_ = df_genes_raw.loc[df_genes.query('gene_biotype == \"%s\"' % (gene_biotype)).index]\n",
    "    df_.to_csv(fp_, compression='gzip', **kwargs_to_gtf)\n",
    "    !gunzip -c {fp_} | wc -l"
   ]
  },
  {
   "cell_type": "code",
   "execution_count": 6,
   "metadata": {
    "ExecuteTime": {
     "end_time": "2018-09-18T14:38:25.865782Z",
     "start_time": "2018-09-18T14:38:09.909029Z"
    }
   },
   "outputs": [
    {
     "name": "stdout",
     "output_type": "stream",
     "text": [
      "883589 total records (raw)\n"
     ]
    },
    {
     "ename": "FileNotFoundError",
     "evalue": "[Errno 2] No such file or directory: 'annot_ce/canonical_geneset/elegans.gtf.gz'",
     "output_type": "error",
     "traceback": [
      "\u001b[0;31m---------------------------------------------------------------------------\u001b[0m",
      "\u001b[0;31mFileNotFoundError\u001b[0m                         Traceback (most recent call last)",
      "\u001b[0;32m<ipython-input-6-bd53093bb364>\u001b[0m in \u001b[0;36m<module>\u001b[0;34m\u001b[0m\n\u001b[1;32m      1\u001b[0m \u001b[0mdf_transcripts_raw\u001b[0m \u001b[0;34m=\u001b[0m \u001b[0mread_wbgtf\u001b[0m\u001b[0;34m(\u001b[0m\u001b[0;34m'annot_ce/canonical_geneset/elegans.transcripts.gtf.gz'\u001b[0m\u001b[0;34m,\u001b[0m \u001b[0mparse_attr\u001b[0m\u001b[0;34m=\u001b[0m\u001b[0;32mFalse\u001b[0m\u001b[0;34m)\u001b[0m\u001b[0;34m\u001b[0m\u001b[0m\n\u001b[1;32m      2\u001b[0m \u001b[0mprint\u001b[0m\u001b[0;34m(\u001b[0m\u001b[0;34m'%d total records (raw)'\u001b[0m \u001b[0;34m%\u001b[0m \u001b[0;34m(\u001b[0m\u001b[0mlen\u001b[0m\u001b[0;34m(\u001b[0m\u001b[0mdf_transcripts_raw\u001b[0m\u001b[0;34m)\u001b[0m\u001b[0;34m,\u001b[0m\u001b[0;34m)\u001b[0m\u001b[0;34m)\u001b[0m\u001b[0;34m\u001b[0m\u001b[0m\n\u001b[0;32m----> 3\u001b[0;31m \u001b[0mdf_transcripts_parsed\u001b[0m \u001b[0;34m=\u001b[0m \u001b[0mread_wbgtf\u001b[0m\u001b[0;34m(\u001b[0m\u001b[0;34m'annot_ce/canonical_geneset/elegans.gtf.gz'\u001b[0m\u001b[0;34m,\u001b[0m \u001b[0mparse_attr\u001b[0m\u001b[0;34m=\u001b[0m\u001b[0;32mTrue\u001b[0m\u001b[0;34m)\u001b[0m\u001b[0;34m\u001b[0m\u001b[0m\n\u001b[0m\u001b[1;32m      4\u001b[0m \u001b[0;31m#df_transcripts_parsed['locus_id'] = list(locus_id_from_gene_id(df_transcripts_parsed['gene_id']))\u001b[0m\u001b[0;34m\u001b[0m\u001b[0;34m\u001b[0m\u001b[0m\n\u001b[1;32m      5\u001b[0m \u001b[0mprint\u001b[0m\u001b[0;34m(\u001b[0m\u001b[0;34m'%d total records (parsed)'\u001b[0m \u001b[0;34m%\u001b[0m \u001b[0;34m(\u001b[0m\u001b[0mlen\u001b[0m\u001b[0;34m(\u001b[0m\u001b[0mdf_transcripts_parsed\u001b[0m\u001b[0;34m)\u001b[0m\u001b[0;34m,\u001b[0m\u001b[0;34m)\u001b[0m\u001b[0;34m)\u001b[0m\u001b[0;34m\u001b[0m\u001b[0m\n",
      "\u001b[0;32m<ipython-input-1-aec84a151935>\u001b[0m in \u001b[0;36mread_wbgtf\u001b[0;34m(fp, parse_attr, coords_adj, *args, **kwargs)\u001b[0m\n\u001b[1;32m     51\u001b[0m \u001b[0;34m\u001b[0m\u001b[0m\n\u001b[1;32m     52\u001b[0m \u001b[0;32mdef\u001b[0m \u001b[0mread_wbgtf\u001b[0m\u001b[0;34m(\u001b[0m\u001b[0mfp\u001b[0m\u001b[0;34m,\u001b[0m \u001b[0mparse_attr\u001b[0m\u001b[0;34m=\u001b[0m\u001b[0;34m[\u001b[0m\u001b[0;34m]\u001b[0m\u001b[0;34m,\u001b[0m \u001b[0mcoords_adj\u001b[0m\u001b[0;34m=\u001b[0m\u001b[0;32mFalse\u001b[0m\u001b[0;34m,\u001b[0m \u001b[0;34m*\u001b[0m\u001b[0margs\u001b[0m\u001b[0;34m,\u001b[0m \u001b[0;34m**\u001b[0m\u001b[0mkwargs\u001b[0m\u001b[0;34m)\u001b[0m\u001b[0;34m:\u001b[0m\u001b[0;34m\u001b[0m\u001b[0m\n\u001b[0;32m---> 53\u001b[0;31m     \u001b[0mdf\u001b[0m \u001b[0;34m=\u001b[0m \u001b[0mpd\u001b[0m\u001b[0;34m.\u001b[0m\u001b[0mread_csv\u001b[0m\u001b[0;34m(\u001b[0m\u001b[0mfp\u001b[0m\u001b[0;34m,\u001b[0m \u001b[0msep\u001b[0m\u001b[0;34m=\u001b[0m\u001b[0;34m'\\t'\u001b[0m\u001b[0;34m,\u001b[0m \u001b[0mnames\u001b[0m\u001b[0;34m=\u001b[0m\u001b[0mNAMES_GTF\u001b[0m\u001b[0;34m,\u001b[0m \u001b[0mcomment\u001b[0m\u001b[0;34m=\u001b[0m\u001b[0;34m'#'\u001b[0m\u001b[0;34m,\u001b[0m \u001b[0;34m*\u001b[0m\u001b[0margs\u001b[0m\u001b[0;34m,\u001b[0m \u001b[0;34m**\u001b[0m\u001b[0mkwargs\u001b[0m\u001b[0;34m)\u001b[0m\u001b[0;34m\u001b[0m\u001b[0m\n\u001b[0m\u001b[1;32m     54\u001b[0m     \u001b[0;32mif\u001b[0m \u001b[0mcoords_adj\u001b[0m\u001b[0;34m:\u001b[0m \u001b[0;31m# convert coordinates from GTF-style to BED-style\u001b[0m\u001b[0;34m\u001b[0m\u001b[0m\n\u001b[1;32m     55\u001b[0m         \u001b[0mdf\u001b[0m\u001b[0;34m[\u001b[0m\u001b[0;34m'start'\u001b[0m\u001b[0;34m]\u001b[0m \u001b[0;34m=\u001b[0m \u001b[0mdf\u001b[0m\u001b[0;34m[\u001b[0m\u001b[0;34m'start'\u001b[0m\u001b[0;34m]\u001b[0m \u001b[0;34m-\u001b[0m \u001b[0;36m1\u001b[0m\u001b[0;34m\u001b[0m\u001b[0m\n",
      "\u001b[0;32m~/anaconda3/envs/relmapping/lib/python3.5/site-packages/pandas/io/parsers.py\u001b[0m in \u001b[0;36mparser_f\u001b[0;34m(filepath_or_buffer, sep, delimiter, header, names, index_col, usecols, squeeze, prefix, mangle_dupe_cols, dtype, engine, converters, true_values, false_values, skipinitialspace, skiprows, nrows, na_values, keep_default_na, na_filter, verbose, skip_blank_lines, parse_dates, infer_datetime_format, keep_date_col, date_parser, dayfirst, iterator, chunksize, compression, thousands, decimal, lineterminator, quotechar, quoting, escapechar, comment, encoding, dialect, tupleize_cols, error_bad_lines, warn_bad_lines, skipfooter, doublequote, delim_whitespace, low_memory, memory_map, float_precision)\u001b[0m\n\u001b[1;32m    676\u001b[0m                     skip_blank_lines=skip_blank_lines)\n\u001b[1;32m    677\u001b[0m \u001b[0;34m\u001b[0m\u001b[0m\n\u001b[0;32m--> 678\u001b[0;31m         \u001b[0;32mreturn\u001b[0m \u001b[0m_read\u001b[0m\u001b[0;34m(\u001b[0m\u001b[0mfilepath_or_buffer\u001b[0m\u001b[0;34m,\u001b[0m \u001b[0mkwds\u001b[0m\u001b[0;34m)\u001b[0m\u001b[0;34m\u001b[0m\u001b[0m\n\u001b[0m\u001b[1;32m    679\u001b[0m \u001b[0;34m\u001b[0m\u001b[0m\n\u001b[1;32m    680\u001b[0m     \u001b[0mparser_f\u001b[0m\u001b[0;34m.\u001b[0m\u001b[0m__name__\u001b[0m \u001b[0;34m=\u001b[0m \u001b[0mname\u001b[0m\u001b[0;34m\u001b[0m\u001b[0m\n",
      "\u001b[0;32m~/anaconda3/envs/relmapping/lib/python3.5/site-packages/pandas/io/parsers.py\u001b[0m in \u001b[0;36m_read\u001b[0;34m(filepath_or_buffer, kwds)\u001b[0m\n\u001b[1;32m    438\u001b[0m \u001b[0;34m\u001b[0m\u001b[0m\n\u001b[1;32m    439\u001b[0m     \u001b[0;31m# Create the parser.\u001b[0m\u001b[0;34m\u001b[0m\u001b[0;34m\u001b[0m\u001b[0m\n\u001b[0;32m--> 440\u001b[0;31m     \u001b[0mparser\u001b[0m \u001b[0;34m=\u001b[0m \u001b[0mTextFileReader\u001b[0m\u001b[0;34m(\u001b[0m\u001b[0mfilepath_or_buffer\u001b[0m\u001b[0;34m,\u001b[0m \u001b[0;34m**\u001b[0m\u001b[0mkwds\u001b[0m\u001b[0;34m)\u001b[0m\u001b[0;34m\u001b[0m\u001b[0m\n\u001b[0m\u001b[1;32m    441\u001b[0m \u001b[0;34m\u001b[0m\u001b[0m\n\u001b[1;32m    442\u001b[0m     \u001b[0;32mif\u001b[0m \u001b[0mchunksize\u001b[0m \u001b[0;32mor\u001b[0m \u001b[0miterator\u001b[0m\u001b[0;34m:\u001b[0m\u001b[0;34m\u001b[0m\u001b[0m\n",
      "\u001b[0;32m~/anaconda3/envs/relmapping/lib/python3.5/site-packages/pandas/io/parsers.py\u001b[0m in \u001b[0;36m__init__\u001b[0;34m(self, f, engine, **kwds)\u001b[0m\n\u001b[1;32m    785\u001b[0m             \u001b[0mself\u001b[0m\u001b[0;34m.\u001b[0m\u001b[0moptions\u001b[0m\u001b[0;34m[\u001b[0m\u001b[0;34m'has_index_names'\u001b[0m\u001b[0;34m]\u001b[0m \u001b[0;34m=\u001b[0m \u001b[0mkwds\u001b[0m\u001b[0;34m[\u001b[0m\u001b[0;34m'has_index_names'\u001b[0m\u001b[0;34m]\u001b[0m\u001b[0;34m\u001b[0m\u001b[0m\n\u001b[1;32m    786\u001b[0m \u001b[0;34m\u001b[0m\u001b[0m\n\u001b[0;32m--> 787\u001b[0;31m         \u001b[0mself\u001b[0m\u001b[0;34m.\u001b[0m\u001b[0m_make_engine\u001b[0m\u001b[0;34m(\u001b[0m\u001b[0mself\u001b[0m\u001b[0;34m.\u001b[0m\u001b[0mengine\u001b[0m\u001b[0;34m)\u001b[0m\u001b[0;34m\u001b[0m\u001b[0m\n\u001b[0m\u001b[1;32m    788\u001b[0m \u001b[0;34m\u001b[0m\u001b[0m\n\u001b[1;32m    789\u001b[0m     \u001b[0;32mdef\u001b[0m \u001b[0mclose\u001b[0m\u001b[0;34m(\u001b[0m\u001b[0mself\u001b[0m\u001b[0;34m)\u001b[0m\u001b[0;34m:\u001b[0m\u001b[0;34m\u001b[0m\u001b[0m\n",
      "\u001b[0;32m~/anaconda3/envs/relmapping/lib/python3.5/site-packages/pandas/io/parsers.py\u001b[0m in \u001b[0;36m_make_engine\u001b[0;34m(self, engine)\u001b[0m\n\u001b[1;32m   1012\u001b[0m     \u001b[0;32mdef\u001b[0m \u001b[0m_make_engine\u001b[0m\u001b[0;34m(\u001b[0m\u001b[0mself\u001b[0m\u001b[0;34m,\u001b[0m \u001b[0mengine\u001b[0m\u001b[0;34m=\u001b[0m\u001b[0;34m'c'\u001b[0m\u001b[0;34m)\u001b[0m\u001b[0;34m:\u001b[0m\u001b[0;34m\u001b[0m\u001b[0m\n\u001b[1;32m   1013\u001b[0m         \u001b[0;32mif\u001b[0m \u001b[0mengine\u001b[0m \u001b[0;34m==\u001b[0m \u001b[0;34m'c'\u001b[0m\u001b[0;34m:\u001b[0m\u001b[0;34m\u001b[0m\u001b[0m\n\u001b[0;32m-> 1014\u001b[0;31m             \u001b[0mself\u001b[0m\u001b[0;34m.\u001b[0m\u001b[0m_engine\u001b[0m \u001b[0;34m=\u001b[0m \u001b[0mCParserWrapper\u001b[0m\u001b[0;34m(\u001b[0m\u001b[0mself\u001b[0m\u001b[0;34m.\u001b[0m\u001b[0mf\u001b[0m\u001b[0;34m,\u001b[0m \u001b[0;34m**\u001b[0m\u001b[0mself\u001b[0m\u001b[0;34m.\u001b[0m\u001b[0moptions\u001b[0m\u001b[0;34m)\u001b[0m\u001b[0;34m\u001b[0m\u001b[0m\n\u001b[0m\u001b[1;32m   1015\u001b[0m         \u001b[0;32melse\u001b[0m\u001b[0;34m:\u001b[0m\u001b[0;34m\u001b[0m\u001b[0m\n\u001b[1;32m   1016\u001b[0m             \u001b[0;32mif\u001b[0m \u001b[0mengine\u001b[0m \u001b[0;34m==\u001b[0m \u001b[0;34m'python'\u001b[0m\u001b[0;34m:\u001b[0m\u001b[0;34m\u001b[0m\u001b[0m\n",
      "\u001b[0;32m~/anaconda3/envs/relmapping/lib/python3.5/site-packages/pandas/io/parsers.py\u001b[0m in \u001b[0;36m__init__\u001b[0;34m(self, src, **kwds)\u001b[0m\n\u001b[1;32m   1706\u001b[0m         \u001b[0mkwds\u001b[0m\u001b[0;34m[\u001b[0m\u001b[0;34m'usecols'\u001b[0m\u001b[0;34m]\u001b[0m \u001b[0;34m=\u001b[0m \u001b[0mself\u001b[0m\u001b[0;34m.\u001b[0m\u001b[0musecols\u001b[0m\u001b[0;34m\u001b[0m\u001b[0m\n\u001b[1;32m   1707\u001b[0m \u001b[0;34m\u001b[0m\u001b[0m\n\u001b[0;32m-> 1708\u001b[0;31m         \u001b[0mself\u001b[0m\u001b[0;34m.\u001b[0m\u001b[0m_reader\u001b[0m \u001b[0;34m=\u001b[0m \u001b[0mparsers\u001b[0m\u001b[0;34m.\u001b[0m\u001b[0mTextReader\u001b[0m\u001b[0;34m(\u001b[0m\u001b[0msrc\u001b[0m\u001b[0;34m,\u001b[0m \u001b[0;34m**\u001b[0m\u001b[0mkwds\u001b[0m\u001b[0;34m)\u001b[0m\u001b[0;34m\u001b[0m\u001b[0m\n\u001b[0m\u001b[1;32m   1709\u001b[0m \u001b[0;34m\u001b[0m\u001b[0m\n\u001b[1;32m   1710\u001b[0m         \u001b[0mpassed_names\u001b[0m \u001b[0;34m=\u001b[0m \u001b[0mself\u001b[0m\u001b[0;34m.\u001b[0m\u001b[0mnames\u001b[0m \u001b[0;32mis\u001b[0m \u001b[0;32mNone\u001b[0m\u001b[0;34m\u001b[0m\u001b[0m\n",
      "\u001b[0;32mpandas/_libs/parsers.pyx\u001b[0m in \u001b[0;36mpandas._libs.parsers.TextReader.__cinit__\u001b[0;34m()\u001b[0m\n",
      "\u001b[0;32mpandas/_libs/parsers.pyx\u001b[0m in \u001b[0;36mpandas._libs.parsers.TextReader._setup_parser_source\u001b[0;34m()\u001b[0m\n",
      "\u001b[0;32m~/anaconda3/envs/relmapping/lib/python3.5/gzip.py\u001b[0m in \u001b[0;36m__init__\u001b[0;34m(self, filename, mode, compresslevel, fileobj, mtime)\u001b[0m\n\u001b[1;32m    161\u001b[0m             \u001b[0mmode\u001b[0m \u001b[0;34m+=\u001b[0m \u001b[0;34m'b'\u001b[0m\u001b[0;34m\u001b[0m\u001b[0m\n\u001b[1;32m    162\u001b[0m         \u001b[0;32mif\u001b[0m \u001b[0mfileobj\u001b[0m \u001b[0;32mis\u001b[0m \u001b[0;32mNone\u001b[0m\u001b[0;34m:\u001b[0m\u001b[0;34m\u001b[0m\u001b[0m\n\u001b[0;32m--> 163\u001b[0;31m             \u001b[0mfileobj\u001b[0m \u001b[0;34m=\u001b[0m \u001b[0mself\u001b[0m\u001b[0;34m.\u001b[0m\u001b[0mmyfileobj\u001b[0m \u001b[0;34m=\u001b[0m \u001b[0mbuiltins\u001b[0m\u001b[0;34m.\u001b[0m\u001b[0mopen\u001b[0m\u001b[0;34m(\u001b[0m\u001b[0mfilename\u001b[0m\u001b[0;34m,\u001b[0m \u001b[0mmode\u001b[0m \u001b[0;32mor\u001b[0m \u001b[0;34m'rb'\u001b[0m\u001b[0;34m)\u001b[0m\u001b[0;34m\u001b[0m\u001b[0m\n\u001b[0m\u001b[1;32m    164\u001b[0m         \u001b[0;32mif\u001b[0m \u001b[0mfilename\u001b[0m \u001b[0;32mis\u001b[0m \u001b[0;32mNone\u001b[0m\u001b[0;34m:\u001b[0m\u001b[0;34m\u001b[0m\u001b[0m\n\u001b[1;32m    165\u001b[0m             \u001b[0mfilename\u001b[0m \u001b[0;34m=\u001b[0m \u001b[0mgetattr\u001b[0m\u001b[0;34m(\u001b[0m\u001b[0mfileobj\u001b[0m\u001b[0;34m,\u001b[0m \u001b[0;34m'name'\u001b[0m\u001b[0;34m,\u001b[0m \u001b[0;34m''\u001b[0m\u001b[0;34m)\u001b[0m\u001b[0;34m\u001b[0m\u001b[0m\n",
      "\u001b[0;31mFileNotFoundError\u001b[0m: [Errno 2] No such file or directory: 'annot_ce/canonical_geneset/elegans.gtf.gz'"
     ]
    }
   ],
   "source": [
    "df_transcripts_raw = read_wbgtf('annot_ce/canonical_geneset/elegans.transcripts.gtf.gz', parse_attr=False)\n",
    "print('%d total records (raw)' % (len(df_transcripts_raw),))\n",
    "df_transcripts_parsed = read_wbgtf('annot_ce/canonical_geneset/elegans.transcripts.gtf.gz', parse_attr=True)\n",
    "#df_transcripts_parsed['locus_id'] = list(locus_id_from_gene_id(df_transcripts_parsed['gene_id']))\n",
    "print('%d total records (parsed)' % (len(df_transcripts_parsed),))"
   ]
  },
  {
   "cell_type": "code",
   "execution_count": 6,
   "metadata": {
    "ExecuteTime": {
     "end_time": "2018-09-18T14:38:25.926510Z",
     "start_time": "2018-09-18T14:38:25.868229Z"
    }
   },
   "outputs": [
    {
     "data": {
      "text/plain": [
       "protein_coding     430449\n",
       "tRNA                 1556\n",
       "pseudogene            884\n",
       "tRNA_pseudogene       357\n",
       "pre_miRNA             266\n",
       "ncRNA                 260\n",
       "snRNA                 214\n",
       "snoRNA                206\n",
       "lincRNA                64\n",
       "rRNA                   10\n",
       "Name: transcript_biotype, dtype: int64"
      ]
     },
     "execution_count": 6,
     "metadata": {},
     "output_type": "execute_result"
    }
   ],
   "source": [
    "df_transcripts_parsed['transcript_biotype'].value_counts()"
   ]
  },
  {
   "cell_type": "code",
   "execution_count": 7,
   "metadata": {
    "ExecuteTime": {
     "end_time": "2018-09-18T14:38:46.412859Z",
     "start_time": "2018-09-18T14:38:25.928347Z"
    }
   },
   "outputs": [
    {
     "name": "stdout",
     "output_type": "stream",
     "text": [
      "433319 with transcript_biotype in ['protein_coding', 'tRNA', 'snoRNA', 'miRNA', 'snRNA', 'rRNA', 'pseudogene']\n",
      "431333 with transcript_biotype in ['protein_coding', 'pseudogene']\n",
      "1986 with transcript_biotype in ['tRNA', 'snoRNA', 'miRNA', 'snRNA', 'rRNA']\n"
     ]
    }
   ],
   "source": [
    "# Load raw transcripts file; write file with suitable biotypes\n",
    "l_annot_transcript_biotype = ['protein_coding', 'tRNA', 'snoRNA', 'miRNA', 'snRNA', 'rRNA', 'pseudogene']\n",
    "l_annot_transcript_biotype_pass1 = ['protein_coding', 'pseudogene']\n",
    "l_annot_transcript_biotype_pass2 = ['tRNA', 'snoRNA', 'miRNA', 'snRNA', 'rRNA']\n",
    "\n",
    "m_ = df_transcripts_parsed['transcript_biotype'].isin(l_annot_transcript_biotype)\n",
    "print('%d with transcript_biotype in %s' % (sum(m_), str(l_annot_transcript_biotype)))\n",
    "\n",
    "m_pass1 = df_transcripts_parsed['transcript_biotype'].isin(l_annot_transcript_biotype_pass1)\n",
    "print('%d with transcript_biotype in %s' % (sum(m_pass1), str(l_annot_transcript_biotype_pass1)))\n",
    "\n",
    "m_pass2 = df_transcripts_parsed['transcript_biotype'].isin(l_annot_transcript_biotype_pass2)\n",
    "print('%d with transcript_biotype in %s' % (sum(m_pass2), str(l_annot_transcript_biotype_pass2)))\n",
    "\n",
    "kwargs_ = {'index': False, 'header': False, 'quoting': csv.QUOTE_NONE, 'sep': '\\t', 'compression': 'gzip'}\n",
    "\n",
    "df_transcripts_raw[m_].to_csv('annot_ce/canonical_geneset/elegans.transcripts.annot.gtf.gz', **kwargs_)\n",
    "df_transcripts_raw[m_pass1].to_csv('annot_ce/canonical_geneset/elegans.transcripts.annot_pass1.gtf.gz', **kwargs_)\n",
    "df_transcripts_raw[m_pass2].to_csv('annot_ce/canonical_geneset/elegans.transcripts.annot_pass2.gtf.gz', **kwargs_)"
   ]
  },
  {
   "cell_type": "code",
   "execution_count": 8,
   "metadata": {
    "ExecuteTime": {
     "end_time": "2018-09-18T14:38:46.924445Z",
     "start_time": "2018-09-18T14:38:46.415180Z"
    }
   },
   "outputs": [
    {
     "name": "stdout",
     "output_type": "stream",
     "text": [
      "True     162339\n",
      "False      1513\n",
      "Name: is_pass1, dtype: int64\n",
      "False    162840\n",
      "True       1012\n",
      "Name: is_pass2, dtype: int64\n"
     ]
    },
    {
     "data": {
      "text/html": [
       "<div>\n",
       "<style>\n",
       "    .dataframe thead tr:only-child th {\n",
       "        text-align: right;\n",
       "    }\n",
       "\n",
       "    .dataframe thead th {\n",
       "        text-align: left;\n",
       "    }\n",
       "\n",
       "    .dataframe tbody tr th {\n",
       "        vertical-align: top;\n",
       "    }\n",
       "</style>\n",
       "<table border=\"1\" class=\"dataframe\">\n",
       "  <thead>\n",
       "    <tr style=\"text-align: right;\">\n",
       "      <th></th>\n",
       "      <th>chrom</th>\n",
       "      <th>source</th>\n",
       "      <th>feature</th>\n",
       "      <th>exon_start</th>\n",
       "      <th>exon_end</th>\n",
       "      <th>score</th>\n",
       "      <th>strand</th>\n",
       "      <th>frame</th>\n",
       "      <th>exon_id</th>\n",
       "      <th>exon_number</th>\n",
       "      <th>gene_biotype</th>\n",
       "      <th>gene_id</th>\n",
       "      <th>gene_source</th>\n",
       "      <th>protein_id</th>\n",
       "      <th>transcript_biotype</th>\n",
       "      <th>transcript_id</th>\n",
       "      <th>transcript_source</th>\n",
       "      <th>is_pass1</th>\n",
       "      <th>is_pass2</th>\n",
       "    </tr>\n",
       "  </thead>\n",
       "  <tbody>\n",
       "    <tr>\n",
       "      <th>0</th>\n",
       "      <td>IV</td>\n",
       "      <td>WormBase</td>\n",
       "      <td>exon</td>\n",
       "      <td>1232</td>\n",
       "      <td>1487</td>\n",
       "      <td>.</td>\n",
       "      <td>+</td>\n",
       "      <td>.</td>\n",
       "      <td>CBG00323.e1</td>\n",
       "      <td>1.0</td>\n",
       "      <td>protein_coding</td>\n",
       "      <td>WBGene00023731</td>\n",
       "      <td>WormBase</td>\n",
       "      <td>NaN</td>\n",
       "      <td>protein_coding</td>\n",
       "      <td>CBG00323</td>\n",
       "      <td>WormBase</td>\n",
       "      <td>True</td>\n",
       "      <td>False</td>\n",
       "    </tr>\n",
       "    <tr>\n",
       "      <th>1</th>\n",
       "      <td>IV</td>\n",
       "      <td>WormBase</td>\n",
       "      <td>exon</td>\n",
       "      <td>1615</td>\n",
       "      <td>1735</td>\n",
       "      <td>.</td>\n",
       "      <td>+</td>\n",
       "      <td>.</td>\n",
       "      <td>CBG00323.e2</td>\n",
       "      <td>2.0</td>\n",
       "      <td>protein_coding</td>\n",
       "      <td>WBGene00023731</td>\n",
       "      <td>WormBase</td>\n",
       "      <td>NaN</td>\n",
       "      <td>protein_coding</td>\n",
       "      <td>CBG00323</td>\n",
       "      <td>WormBase</td>\n",
       "      <td>True</td>\n",
       "      <td>False</td>\n",
       "    </tr>\n",
       "    <tr>\n",
       "      <th>2</th>\n",
       "      <td>IV</td>\n",
       "      <td>WormBase</td>\n",
       "      <td>exon</td>\n",
       "      <td>2125</td>\n",
       "      <td>2212</td>\n",
       "      <td>.</td>\n",
       "      <td>+</td>\n",
       "      <td>.</td>\n",
       "      <td>CBG00323.e3</td>\n",
       "      <td>3.0</td>\n",
       "      <td>protein_coding</td>\n",
       "      <td>WBGene00023731</td>\n",
       "      <td>WormBase</td>\n",
       "      <td>NaN</td>\n",
       "      <td>protein_coding</td>\n",
       "      <td>CBG00323</td>\n",
       "      <td>WormBase</td>\n",
       "      <td>True</td>\n",
       "      <td>False</td>\n",
       "    </tr>\n",
       "    <tr>\n",
       "      <th>3</th>\n",
       "      <td>IV</td>\n",
       "      <td>WormBase</td>\n",
       "      <td>exon</td>\n",
       "      <td>2247</td>\n",
       "      <td>2367</td>\n",
       "      <td>.</td>\n",
       "      <td>+</td>\n",
       "      <td>.</td>\n",
       "      <td>CBG00323.e4</td>\n",
       "      <td>4.0</td>\n",
       "      <td>protein_coding</td>\n",
       "      <td>WBGene00023731</td>\n",
       "      <td>WormBase</td>\n",
       "      <td>NaN</td>\n",
       "      <td>protein_coding</td>\n",
       "      <td>CBG00323</td>\n",
       "      <td>WormBase</td>\n",
       "      <td>True</td>\n",
       "      <td>False</td>\n",
       "    </tr>\n",
       "    <tr>\n",
       "      <th>4</th>\n",
       "      <td>IV</td>\n",
       "      <td>WormBase</td>\n",
       "      <td>exon</td>\n",
       "      <td>2780</td>\n",
       "      <td>2912</td>\n",
       "      <td>.</td>\n",
       "      <td>+</td>\n",
       "      <td>.</td>\n",
       "      <td>CBG00323.e5</td>\n",
       "      <td>5.0</td>\n",
       "      <td>protein_coding</td>\n",
       "      <td>WBGene00023731</td>\n",
       "      <td>WormBase</td>\n",
       "      <td>NaN</td>\n",
       "      <td>protein_coding</td>\n",
       "      <td>CBG00323</td>\n",
       "      <td>WormBase</td>\n",
       "      <td>True</td>\n",
       "      <td>False</td>\n",
       "    </tr>\n",
       "  </tbody>\n",
       "</table>\n",
       "</div>"
      ],
      "text/plain": [
       "  chrom    source feature  exon_start  exon_end score strand frame  \\\n",
       "0    IV  WormBase    exon        1232      1487     .      +     .   \n",
       "1    IV  WormBase    exon        1615      1735     .      +     .   \n",
       "2    IV  WormBase    exon        2125      2212     .      +     .   \n",
       "3    IV  WormBase    exon        2247      2367     .      +     .   \n",
       "4    IV  WormBase    exon        2780      2912     .      +     .   \n",
       "\n",
       "       exon_id  exon_number    gene_biotype         gene_id gene_source  \\\n",
       "0  CBG00323.e1          1.0  protein_coding  WBGene00023731    WormBase   \n",
       "1  CBG00323.e2          2.0  protein_coding  WBGene00023731    WormBase   \n",
       "2  CBG00323.e3          3.0  protein_coding  WBGene00023731    WormBase   \n",
       "3  CBG00323.e4          4.0  protein_coding  WBGene00023731    WormBase   \n",
       "4  CBG00323.e5          5.0  protein_coding  WBGene00023731    WormBase   \n",
       "\n",
       "  protein_id transcript_biotype transcript_id transcript_source  is_pass1  \\\n",
       "0        NaN     protein_coding      CBG00323          WormBase      True   \n",
       "1        NaN     protein_coding      CBG00323          WormBase      True   \n",
       "2        NaN     protein_coding      CBG00323          WormBase      True   \n",
       "3        NaN     protein_coding      CBG00323          WormBase      True   \n",
       "4        NaN     protein_coding      CBG00323          WormBase      True   \n",
       "\n",
       "   is_pass2  \n",
       "0     False  \n",
       "1     False  \n",
       "2     False  \n",
       "3     False  \n",
       "4     False  "
      ]
     },
     "execution_count": 8,
     "metadata": {},
     "output_type": "execute_result"
    }
   ],
   "source": [
    "# Exons -- annotate step -- pass1 or pass2\n",
    "df_exon = df_transcripts_parsed.query('feature == \"exon\"').reset_index(drop=True)\n",
    "df_exon['start'] = df_exon['start'] - 1 # coordinates .gtf-to-.bed\n",
    "df_exon['is_pass1'] = df_exon['transcript_biotype'].map(lambda s: s in l_annot_transcript_biotype_pass1)\n",
    "df_exon['is_pass2'] = df_exon['transcript_biotype'].map(lambda s: s in l_annot_transcript_biotype_pass2)\n",
    "print(df_exon['is_pass1'].value_counts())\n",
    "print(df_exon['is_pass2'].value_counts())\n",
    "\n",
    "df_exon.rename(columns={'start': 'exon_start', 'end': 'exon_end'}, inplace=True)\n",
    "df_exon.head()"
   ]
  },
  {
   "cell_type": "code",
   "execution_count": 9,
   "metadata": {
    "ExecuteTime": {
     "end_time": "2018-09-18T14:38:47.046289Z",
     "start_time": "2018-09-18T14:38:46.926302Z"
    },
    "collapsed": true
   },
   "outputs": [],
   "source": [
    "# aoe = 1st exon assignment, fivep = excluding exon-proximal artefacts\n",
    "df_exon_fwd = df_exon.query('strand == \"+\"').reset_index(drop=True)\n",
    "df_exon_rev = df_exon.query('strand == \"-\"').reset_index(drop=True)\n",
    "\n",
    "df_exon_fwd['fivep_start'] = df_exon_fwd['exon_start'] \n",
    "df_exon_fwd['fivep_end'] = df_exon_fwd['exon_start'] + 1\n",
    "df_exon_rev['fivep_start'] = df_exon_rev['exon_end'] - 1 \n",
    "df_exon_rev['fivep_end'] = df_exon_rev['exon_end']\n",
    "\n",
    "# allow ATAC-seq mode up to 100bp downstream of exon start (similar to TIC-to-TSS assignments in Chen et al., 2013)\n",
    "downstream_extension_len = 100\n",
    "df_exon_fwd['aoe_start'] = df_exon_fwd['exon_start']\n",
    "df_exon_fwd['aoe_end'] = df_exon_fwd['exon_start'] + downstream_extension_len\n",
    "df_exon_rev['aoe_start'] = df_exon_rev['exon_end'] - downstream_extension_len\n",
    "df_exon_rev['aoe_end'] = df_exon_rev['exon_end']"
   ]
  },
  {
   "cell_type": "code",
   "execution_count": 10,
   "metadata": {
    "ExecuteTime": {
     "end_time": "2018-09-18T14:39:03.609683Z",
     "start_time": "2018-09-18T14:38:47.049546Z"
    }
   },
   "outputs": [
    {
     "name": "stdout",
     "output_type": "stream",
     "text": [
      "12861 annot_cb/canonical_geneset/WS260_CB4.transcripts.annot_pass1_exon1_fwd.bed\n",
      "12772 annot_cb/canonical_geneset/WS260_CB4.transcripts.annot_pass1_exon1_rev.bed\n",
      "69068 annot_cb/canonical_geneset/WS260_CB4.transcripts.annot_pass1_exon2_fwd.bed\n",
      "67642 annot_cb/canonical_geneset/WS260_CB4.transcripts.annot_pass1_exon2_rev.bed\n",
      "478 annot_cb/canonical_geneset/WS260_CB4.transcripts.annot_pass2_exon1_fwd.bed\n",
      "498 annot_cb/canonical_geneset/WS260_CB4.transcripts.annot_pass2_exon1_rev.bed\n"
     ]
    }
   ],
   "source": [
    "df_exon_fwd_pass1_exon1 = df_exon_fwd.query('is_pass1 & exon_number == 1').reset_index(drop=True)\n",
    "df_exon_rev_pass1_exon1 = df_exon_rev.query('is_pass1 & exon_number == 1').reset_index(drop=True)\n",
    "df_exon_fwd_pass1_exon2 = df_exon_fwd.query('is_pass1 & exon_number > 1').reset_index(drop=True)\n",
    "df_exon_rev_pass1_exon2 = df_exon_rev.query('is_pass1 & exon_number > 1').reset_index(drop=True)\n",
    "l_attr = ['exon_id', 'gene_biotype', 'gene_id', #'locus_id', 'transcript_biotype', 'transcript_id', \n",
    "         'fivep_start', 'fivep_end', 'aoe_start', 'aoe_end', 'exon_start', 'exon_end']\n",
    "write_gffbed('annot_ce/canonical_geneset/elegans.transcripts.annot_pass1_exon1_fwd.bed',\n",
    "    chrom = df_exon_fwd_pass1_exon1['chrom'],\n",
    "    start = df_exon_fwd_pass1_exon1['aoe_start'],\n",
    "    end = df_exon_fwd_pass1_exon1['aoe_end'],\n",
    "    name = df_exon_fwd_pass1_exon1['gene_id'],\n",
    "    attr = df_exon_fwd_pass1_exon1[l_attr],\n",
    "    strand = df_exon_fwd_pass1_exon1['strand'],\n",
    ")\n",
    "write_gffbed('annot_ce/canonical_geneset/elegans.transcripts.annot_pass1_exon1_rev.bed',\n",
    "    chrom = df_exon_rev_pass1_exon1['chrom'],\n",
    "    start = df_exon_rev_pass1_exon1['aoe_start'],\n",
    "    end = df_exon_rev_pass1_exon1['aoe_end'],\n",
    "    name = df_exon_rev_pass1_exon1['gene_id'],\n",
    "    attr = df_exon_rev_pass1_exon1[l_attr],\n",
    "    strand = df_exon_rev_pass1_exon1['strand'],\n",
    ")\n",
    "write_gffbed('annot_ce/canonical_geneset/elegans.transcripts.annot_pass1_exon2_fwd.bed',\n",
    "    chrom = df_exon_fwd_pass1_exon2['chrom'],\n",
    "    start = df_exon_fwd_pass1_exon2['fivep_start'],\n",
    "    end = df_exon_fwd_pass1_exon2['fivep_end'],\n",
    "    name = df_exon_fwd_pass1_exon2['gene_id'],\n",
    "    attr = df_exon_fwd_pass1_exon2[l_attr],\n",
    "    strand = df_exon_fwd_pass1_exon2['strand'],\n",
    ")\n",
    "write_gffbed('annot_ce/canonical_geneset/elegans.transcripts.annot_pass1_exon2_rev.bed',\n",
    "    chrom = df_exon_rev_pass1_exon2['chrom'],\n",
    "    start = df_exon_rev_pass1_exon2['fivep_start'],\n",
    "    end = df_exon_rev_pass1_exon2['fivep_end'],\n",
    "    name = df_exon_rev_pass1_exon2['gene_id'],\n",
    "    attr = df_exon_rev_pass1_exon2[l_attr],\n",
    "    strand = df_exon_rev_pass1_exon2['strand'],\n",
    ")\n",
    "\n",
    "!wc -l annot_cb/canonical_geneset/WS260_CB4.transcripts.annot_pass1_exon1_fwd.bed\n",
    "!wc -l annot_cb/canonical_geneset/WS260_CB4.transcripts.annot_pass1_exon1_rev.bed\n",
    "!wc -l annot_cb/canonical_geneset/WS260_CB4.transcripts.annot_pass1_exon2_fwd.bed\n",
    "!wc -l annot_cb/canonical_geneset/WS260_CB4.transcripts.annot_pass1_exon2_rev.bed\n",
    "\n",
    "df_exon_fwd_pass2_exon1 = df_exon_fwd.query('is_pass2 & exon_number == 1').reset_index(drop=True)\n",
    "df_exon_rev_pass2_exon1 = df_exon_rev.query('is_pass2 & exon_number == 1').reset_index(drop=True)\n",
    "write_gffbed('annot_ce/canonical_geneset/elegans.transcripts.annot_pass2_exon1_fwd.bed',\n",
    "    chrom = df_exon_fwd_pass2_exon1['chrom'],\n",
    "    start = df_exon_fwd_pass2_exon1['aoe_start'],\n",
    "    end = df_exon_fwd_pass2_exon1['aoe_end'],\n",
    "    name = df_exon_fwd_pass2_exon1['gene_id'],\n",
    "    attr = df_exon_fwd_pass2_exon1[l_attr],\n",
    "    strand = df_exon_fwd_pass2_exon1['strand'],\n",
    ")\n",
    "write_gffbed('annot_ce/canonical_geneset/elegans.transcripts.annot_pass2_exon1_rev.bed',\n",
    "    chrom = df_exon_rev_pass2_exon1['chrom'],\n",
    "    start = df_exon_rev_pass2_exon1['aoe_start'],\n",
    "    end = df_exon_rev_pass2_exon1['aoe_end'],\n",
    "    name = df_exon_rev_pass2_exon1['gene_id'],\n",
    "    attr = df_exon_rev_pass2_exon1[l_attr],\n",
    "    strand = df_exon_rev_pass2_exon1['strand'],\n",
    ")\n",
    "\n",
    "!wc -l annot_cb/canonical_geneset/WS260_CB4.transcripts.annot_pass2_exon1_fwd.bed\n",
    "!wc -l annot_cb/canonical_geneset/WS260_CB4.transcripts.annot_pass2_exon1_rev.bed"
   ]
  },
  {
   "cell_type": "code",
   "execution_count": 11,
   "metadata": {
    "ExecuteTime": {
     "end_time": "2018-09-18T14:45:03.686406Z",
     "start_time": "2018-09-18T14:39:03.615175Z"
    },
    "collapsed": true
   },
   "outputs": [],
   "source": [
    "def to_exon1_utradj(df_transcript):\n",
    "    ps_exon1 = df_transcript.query('(feature == \"exon\") & (exon_number == 1)').iloc[0]\n",
    "    ps = pd.Series()\n",
    "    ps['chrom'] = ps_exon1.chrom\n",
    "    ps['strand'] = ps_exon1.strand\n",
    "    ps['exon_id'] = ps_exon1.exon_id\n",
    "    ps['gene_biotype'] = ps_exon1.gene_biotype\n",
    "    ps['gene_id'] = ps_exon1.gene_id\n",
    "    #ps['locus_id'] = ps_exon1.locus_id\n",
    "\n",
    "    # Exon boundaries (& transform coordinates GTF=>BED)\n",
    "    ps['exon_start'] = ps_exon1.start - 1\n",
    "    ps['exon_end'] = ps_exon1.end\n",
    "    ps['utr_start'] = df_transcript.query('feature == \"five_prime_utr\"')['start'].min(axis=0) - 1\n",
    "    ps['utr_end'] = df_transcript.query('feature == \"five_prime_utr\"')['end'].max(axis=0)\n",
    "\n",
    "    # AOE for identifying putative target gene: 1st exon, expanded by UTR in cases where UTR spans beyond the 1st exon\n",
    "    ps['aoe_start'] = ps[['exon_start', 'utr_start']].min()\n",
    "    ps['aoe_end'] = ps[['exon_end', 'utr_end']].max()\n",
    "\n",
    "    # Cutoff position for transcription initiation mode at the putative promoter\n",
    "    if ps_exon1['strand'] == '+':\n",
    "        ps['init_cutoff_pos'] = max(ps['exon_start'], ps['utr_end'] - 1)\n",
    "    else:\n",
    "        assert ps_exon1['strand'] == '-'\n",
    "        ps['init_cutoff_pos'] = min(ps['exon_end'] - 1, ps['utr_start'])\n",
    "\n",
    "    return ps\n",
    "\n",
    "df_fwd_ = df_transcripts_parsed.query('((feature == \"exon\") | (feature == \"five_prime_utr\")) & (strand == \"+\") & (transcript_biotype in @l_annot_transcript_biotype_pass1)')\n",
    "df_rev_ = df_transcripts_parsed.query('((feature == \"exon\") | (feature == \"five_prime_utr\")) & (strand == \"-\") & (transcript_biotype in @l_annot_transcript_biotype_pass1)')\n",
    "df_exon_fwd_pass1_exon1_adj = pd.concat([to_exon1_utradj(df_tr_id_) for tr_id_, df_tr_id_ in df_fwd_.groupby('transcript_id')], axis=1).transpose()\n",
    "df_exon_rev_pass1_exon1_adj = pd.concat([to_exon1_utradj(df_tr_id_) for tr_id_, df_tr_id_ in df_rev_.groupby('transcript_id')], axis=1).transpose()"
   ]
  },
  {
   "cell_type": "code",
   "execution_count": 12,
   "metadata": {
    "ExecuteTime": {
     "end_time": "2018-09-18T14:45:06.096806Z",
     "start_time": "2018-09-18T14:45:03.688446Z"
    },
    "collapsed": true
   },
   "outputs": [],
   "source": [
    "l_attr = ['exon_id', 'gene_biotype', 'gene_id', #'locus_id', #'transcript_biotype', 'transcript_id', 'fivep_start', 'fivep_end',\n",
    "          'exon_start', 'exon_end', 'utr_start', 'utr_end', 'aoe_start', 'aoe_end', 'init_cutoff_pos']\n",
    "\n",
    "write_gffbed('annot_ce/canonical_geneset/elegans.transcripts.annot_pass1_exon1_fwd_utradj.bed',\n",
    "    chrom = df_exon_fwd_pass1_exon1_adj['chrom'],\n",
    "    start = df_exon_fwd_pass1_exon1_adj['aoe_start'],\n",
    "    end = df_exon_fwd_pass1_exon1_adj['aoe_end'],\n",
    "    name = df_exon_fwd_pass1_exon1_adj['gene_id'],\n",
    "    attr = df_exon_fwd_pass1_exon1_adj[l_attr],\n",
    "    strand = df_exon_fwd_pass1_exon1_adj['strand'],\n",
    ")\n",
    "\n",
    "write_gffbed('annot_ce/canonical_geneset/elegans.transcripts.annot_pass1_exon1_rev_utradj.bed',\n",
    "    chrom = df_exon_rev_pass1_exon1_adj['chrom'],\n",
    "    start = df_exon_rev_pass1_exon1_adj['aoe_start'],\n",
    "    end = df_exon_rev_pass1_exon1_adj['aoe_end'],\n",
    "    name = df_exon_rev_pass1_exon1_adj['gene_id'],\n",
    "    attr = df_exon_rev_pass1_exon1_adj[l_attr],\n",
    "    strand = df_exon_rev_pass1_exon1_adj['strand'],\n",
    ")"
   ]
  }
 ],
 "metadata": {
  "kernelspec": {
   "display_name": "Python 3",
   "language": "python",
   "name": "python3"
  },
  "language_info": {
   "codemirror_mode": {
    "name": "ipython",
    "version": 3
   },
   "file_extension": ".py",
   "mimetype": "text/x-python",
   "name": "python",
   "nbconvert_exporter": "python",
   "pygments_lexer": "ipython3",
   "version": "3.5.1"
  }
 },
 "nbformat": 4,
 "nbformat_minor": 1
}
